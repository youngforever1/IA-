{
 "cells": [
  {
   "cell_type": "code",
   "execution_count": 1,
   "metadata": {},
   "outputs": [
    {
     "data": {
      "text/html": [
       "<div>\n",
       "<style scoped>\n",
       "    .dataframe tbody tr th:only-of-type {\n",
       "        vertical-align: middle;\n",
       "    }\n",
       "\n",
       "    .dataframe tbody tr th {\n",
       "        vertical-align: top;\n",
       "    }\n",
       "\n",
       "    .dataframe thead th {\n",
       "        text-align: right;\n",
       "    }\n",
       "</style>\n",
       "<table border=\"1\" class=\"dataframe\">\n",
       "  <thead>\n",
       "    <tr style=\"text-align: right;\">\n",
       "      <th></th>\n",
       "      <th>CUST_ID</th>\n",
       "      <th>BALANCE</th>\n",
       "      <th>BALANCE_FREQUENCY</th>\n",
       "      <th>PURCHASES</th>\n",
       "      <th>ONEOFF_PURCHASES</th>\n",
       "      <th>INSTALLMENTS_PURCHASES</th>\n",
       "      <th>CASH_ADVANCE</th>\n",
       "      <th>PURCHASES_FREQUENCY</th>\n",
       "      <th>ONEOFF_PURCHASES_FREQUENCY</th>\n",
       "      <th>PURCHASES_INSTALLMENTS_FREQUENCY</th>\n",
       "      <th>CASH_ADVANCE_FREQUENCY</th>\n",
       "      <th>CASH_ADVANCE_TRX</th>\n",
       "      <th>PURCHASES_TRX</th>\n",
       "      <th>CREDIT_LIMIT</th>\n",
       "      <th>PAYMENTS</th>\n",
       "      <th>MINIMUM_PAYMENTS</th>\n",
       "      <th>PRC_FULL_PAYMENT</th>\n",
       "      <th>TENURE</th>\n",
       "    </tr>\n",
       "  </thead>\n",
       "  <tbody>\n",
       "    <tr>\n",
       "      <th>0</th>\n",
       "      <td>C10001</td>\n",
       "      <td>40.900749</td>\n",
       "      <td>0.818182</td>\n",
       "      <td>95.40</td>\n",
       "      <td>0.00</td>\n",
       "      <td>95.40</td>\n",
       "      <td>0.000000</td>\n",
       "      <td>0.166667</td>\n",
       "      <td>0.000000</td>\n",
       "      <td>0.083333</td>\n",
       "      <td>0.000000</td>\n",
       "      <td>0</td>\n",
       "      <td>2</td>\n",
       "      <td>1000.0</td>\n",
       "      <td>201.802084</td>\n",
       "      <td>139.509787</td>\n",
       "      <td>0.000000</td>\n",
       "      <td>12</td>\n",
       "    </tr>\n",
       "    <tr>\n",
       "      <th>1</th>\n",
       "      <td>C10002</td>\n",
       "      <td>3202.467416</td>\n",
       "      <td>0.909091</td>\n",
       "      <td>0.00</td>\n",
       "      <td>0.00</td>\n",
       "      <td>0.00</td>\n",
       "      <td>6442.945483</td>\n",
       "      <td>0.000000</td>\n",
       "      <td>0.000000</td>\n",
       "      <td>0.000000</td>\n",
       "      <td>0.250000</td>\n",
       "      <td>4</td>\n",
       "      <td>0</td>\n",
       "      <td>7000.0</td>\n",
       "      <td>4103.032597</td>\n",
       "      <td>1072.340217</td>\n",
       "      <td>0.222222</td>\n",
       "      <td>12</td>\n",
       "    </tr>\n",
       "    <tr>\n",
       "      <th>2</th>\n",
       "      <td>C10003</td>\n",
       "      <td>2495.148862</td>\n",
       "      <td>1.000000</td>\n",
       "      <td>773.17</td>\n",
       "      <td>773.17</td>\n",
       "      <td>0.00</td>\n",
       "      <td>0.000000</td>\n",
       "      <td>1.000000</td>\n",
       "      <td>1.000000</td>\n",
       "      <td>0.000000</td>\n",
       "      <td>0.000000</td>\n",
       "      <td>0</td>\n",
       "      <td>12</td>\n",
       "      <td>7500.0</td>\n",
       "      <td>622.066742</td>\n",
       "      <td>627.284787</td>\n",
       "      <td>0.000000</td>\n",
       "      <td>12</td>\n",
       "    </tr>\n",
       "    <tr>\n",
       "      <th>3</th>\n",
       "      <td>C10004</td>\n",
       "      <td>1666.670542</td>\n",
       "      <td>0.636364</td>\n",
       "      <td>1499.00</td>\n",
       "      <td>1499.00</td>\n",
       "      <td>0.00</td>\n",
       "      <td>205.788017</td>\n",
       "      <td>0.083333</td>\n",
       "      <td>0.083333</td>\n",
       "      <td>0.000000</td>\n",
       "      <td>0.083333</td>\n",
       "      <td>1</td>\n",
       "      <td>1</td>\n",
       "      <td>7500.0</td>\n",
       "      <td>0.000000</td>\n",
       "      <td>NaN</td>\n",
       "      <td>0.000000</td>\n",
       "      <td>12</td>\n",
       "    </tr>\n",
       "    <tr>\n",
       "      <th>4</th>\n",
       "      <td>C10005</td>\n",
       "      <td>817.714335</td>\n",
       "      <td>1.000000</td>\n",
       "      <td>16.00</td>\n",
       "      <td>16.00</td>\n",
       "      <td>0.00</td>\n",
       "      <td>0.000000</td>\n",
       "      <td>0.083333</td>\n",
       "      <td>0.083333</td>\n",
       "      <td>0.000000</td>\n",
       "      <td>0.000000</td>\n",
       "      <td>0</td>\n",
       "      <td>1</td>\n",
       "      <td>1200.0</td>\n",
       "      <td>678.334763</td>\n",
       "      <td>244.791237</td>\n",
       "      <td>0.000000</td>\n",
       "      <td>12</td>\n",
       "    </tr>\n",
       "    <tr>\n",
       "      <th>...</th>\n",
       "      <td>...</td>\n",
       "      <td>...</td>\n",
       "      <td>...</td>\n",
       "      <td>...</td>\n",
       "      <td>...</td>\n",
       "      <td>...</td>\n",
       "      <td>...</td>\n",
       "      <td>...</td>\n",
       "      <td>...</td>\n",
       "      <td>...</td>\n",
       "      <td>...</td>\n",
       "      <td>...</td>\n",
       "      <td>...</td>\n",
       "      <td>...</td>\n",
       "      <td>...</td>\n",
       "      <td>...</td>\n",
       "      <td>...</td>\n",
       "      <td>...</td>\n",
       "    </tr>\n",
       "    <tr>\n",
       "      <th>8945</th>\n",
       "      <td>C19186</td>\n",
       "      <td>28.493517</td>\n",
       "      <td>1.000000</td>\n",
       "      <td>291.12</td>\n",
       "      <td>0.00</td>\n",
       "      <td>291.12</td>\n",
       "      <td>0.000000</td>\n",
       "      <td>1.000000</td>\n",
       "      <td>0.000000</td>\n",
       "      <td>0.833333</td>\n",
       "      <td>0.000000</td>\n",
       "      <td>0</td>\n",
       "      <td>6</td>\n",
       "      <td>1000.0</td>\n",
       "      <td>325.594462</td>\n",
       "      <td>48.886365</td>\n",
       "      <td>0.500000</td>\n",
       "      <td>6</td>\n",
       "    </tr>\n",
       "    <tr>\n",
       "      <th>8946</th>\n",
       "      <td>C19187</td>\n",
       "      <td>19.183215</td>\n",
       "      <td>1.000000</td>\n",
       "      <td>300.00</td>\n",
       "      <td>0.00</td>\n",
       "      <td>300.00</td>\n",
       "      <td>0.000000</td>\n",
       "      <td>1.000000</td>\n",
       "      <td>0.000000</td>\n",
       "      <td>0.833333</td>\n",
       "      <td>0.000000</td>\n",
       "      <td>0</td>\n",
       "      <td>6</td>\n",
       "      <td>1000.0</td>\n",
       "      <td>275.861322</td>\n",
       "      <td>NaN</td>\n",
       "      <td>0.000000</td>\n",
       "      <td>6</td>\n",
       "    </tr>\n",
       "    <tr>\n",
       "      <th>8947</th>\n",
       "      <td>C19188</td>\n",
       "      <td>23.398673</td>\n",
       "      <td>0.833333</td>\n",
       "      <td>144.40</td>\n",
       "      <td>0.00</td>\n",
       "      <td>144.40</td>\n",
       "      <td>0.000000</td>\n",
       "      <td>0.833333</td>\n",
       "      <td>0.000000</td>\n",
       "      <td>0.666667</td>\n",
       "      <td>0.000000</td>\n",
       "      <td>0</td>\n",
       "      <td>5</td>\n",
       "      <td>1000.0</td>\n",
       "      <td>81.270775</td>\n",
       "      <td>82.418369</td>\n",
       "      <td>0.250000</td>\n",
       "      <td>6</td>\n",
       "    </tr>\n",
       "    <tr>\n",
       "      <th>8948</th>\n",
       "      <td>C19189</td>\n",
       "      <td>13.457564</td>\n",
       "      <td>0.833333</td>\n",
       "      <td>0.00</td>\n",
       "      <td>0.00</td>\n",
       "      <td>0.00</td>\n",
       "      <td>36.558778</td>\n",
       "      <td>0.000000</td>\n",
       "      <td>0.000000</td>\n",
       "      <td>0.000000</td>\n",
       "      <td>0.166667</td>\n",
       "      <td>2</td>\n",
       "      <td>0</td>\n",
       "      <td>500.0</td>\n",
       "      <td>52.549959</td>\n",
       "      <td>55.755628</td>\n",
       "      <td>0.250000</td>\n",
       "      <td>6</td>\n",
       "    </tr>\n",
       "    <tr>\n",
       "      <th>8949</th>\n",
       "      <td>C19190</td>\n",
       "      <td>372.708075</td>\n",
       "      <td>0.666667</td>\n",
       "      <td>1093.25</td>\n",
       "      <td>1093.25</td>\n",
       "      <td>0.00</td>\n",
       "      <td>127.040008</td>\n",
       "      <td>0.666667</td>\n",
       "      <td>0.666667</td>\n",
       "      <td>0.000000</td>\n",
       "      <td>0.333333</td>\n",
       "      <td>2</td>\n",
       "      <td>23</td>\n",
       "      <td>1200.0</td>\n",
       "      <td>63.165404</td>\n",
       "      <td>88.288956</td>\n",
       "      <td>0.000000</td>\n",
       "      <td>6</td>\n",
       "    </tr>\n",
       "  </tbody>\n",
       "</table>\n",
       "<p>8950 rows × 18 columns</p>\n",
       "</div>"
      ],
      "text/plain": [
       "     CUST_ID      BALANCE  BALANCE_FREQUENCY  PURCHASES  ONEOFF_PURCHASES  \\\n",
       "0     C10001    40.900749           0.818182      95.40              0.00   \n",
       "1     C10002  3202.467416           0.909091       0.00              0.00   \n",
       "2     C10003  2495.148862           1.000000     773.17            773.17   \n",
       "3     C10004  1666.670542           0.636364    1499.00           1499.00   \n",
       "4     C10005   817.714335           1.000000      16.00             16.00   \n",
       "...      ...          ...                ...        ...               ...   \n",
       "8945  C19186    28.493517           1.000000     291.12              0.00   \n",
       "8946  C19187    19.183215           1.000000     300.00              0.00   \n",
       "8947  C19188    23.398673           0.833333     144.40              0.00   \n",
       "8948  C19189    13.457564           0.833333       0.00              0.00   \n",
       "8949  C19190   372.708075           0.666667    1093.25           1093.25   \n",
       "\n",
       "      INSTALLMENTS_PURCHASES  CASH_ADVANCE  PURCHASES_FREQUENCY  \\\n",
       "0                      95.40      0.000000             0.166667   \n",
       "1                       0.00   6442.945483             0.000000   \n",
       "2                       0.00      0.000000             1.000000   \n",
       "3                       0.00    205.788017             0.083333   \n",
       "4                       0.00      0.000000             0.083333   \n",
       "...                      ...           ...                  ...   \n",
       "8945                  291.12      0.000000             1.000000   \n",
       "8946                  300.00      0.000000             1.000000   \n",
       "8947                  144.40      0.000000             0.833333   \n",
       "8948                    0.00     36.558778             0.000000   \n",
       "8949                    0.00    127.040008             0.666667   \n",
       "\n",
       "      ONEOFF_PURCHASES_FREQUENCY  PURCHASES_INSTALLMENTS_FREQUENCY  \\\n",
       "0                       0.000000                          0.083333   \n",
       "1                       0.000000                          0.000000   \n",
       "2                       1.000000                          0.000000   \n",
       "3                       0.083333                          0.000000   \n",
       "4                       0.083333                          0.000000   \n",
       "...                          ...                               ...   \n",
       "8945                    0.000000                          0.833333   \n",
       "8946                    0.000000                          0.833333   \n",
       "8947                    0.000000                          0.666667   \n",
       "8948                    0.000000                          0.000000   \n",
       "8949                    0.666667                          0.000000   \n",
       "\n",
       "      CASH_ADVANCE_FREQUENCY  CASH_ADVANCE_TRX  PURCHASES_TRX  CREDIT_LIMIT  \\\n",
       "0                   0.000000                 0              2        1000.0   \n",
       "1                   0.250000                 4              0        7000.0   \n",
       "2                   0.000000                 0             12        7500.0   \n",
       "3                   0.083333                 1              1        7500.0   \n",
       "4                   0.000000                 0              1        1200.0   \n",
       "...                      ...               ...            ...           ...   \n",
       "8945                0.000000                 0              6        1000.0   \n",
       "8946                0.000000                 0              6        1000.0   \n",
       "8947                0.000000                 0              5        1000.0   \n",
       "8948                0.166667                 2              0         500.0   \n",
       "8949                0.333333                 2             23        1200.0   \n",
       "\n",
       "         PAYMENTS  MINIMUM_PAYMENTS  PRC_FULL_PAYMENT  TENURE  \n",
       "0      201.802084        139.509787          0.000000      12  \n",
       "1     4103.032597       1072.340217          0.222222      12  \n",
       "2      622.066742        627.284787          0.000000      12  \n",
       "3        0.000000               NaN          0.000000      12  \n",
       "4      678.334763        244.791237          0.000000      12  \n",
       "...           ...               ...               ...     ...  \n",
       "8945   325.594462         48.886365          0.500000       6  \n",
       "8946   275.861322               NaN          0.000000       6  \n",
       "8947    81.270775         82.418369          0.250000       6  \n",
       "8948    52.549959         55.755628          0.250000       6  \n",
       "8949    63.165404         88.288956          0.000000       6  \n",
       "\n",
       "[8950 rows x 18 columns]"
      ]
     },
     "execution_count": 1,
     "metadata": {},
     "output_type": "execute_result"
    }
   ],
   "source": [
    "import pandas as pd\n",
    "df = pd.read_csv('CC GENERAL.csv')\n",
    "df"
   ]
  },
  {
   "cell_type": "code",
   "execution_count": 2,
   "metadata": {},
   "outputs": [
    {
     "data": {
      "text/plain": [
       "CUST_ID                               0\n",
       "BALANCE                               0\n",
       "BALANCE_FREQUENCY                     0\n",
       "PURCHASES                             0\n",
       "ONEOFF_PURCHASES                      0\n",
       "INSTALLMENTS_PURCHASES                0\n",
       "CASH_ADVANCE                          0\n",
       "PURCHASES_FREQUENCY                   0\n",
       "ONEOFF_PURCHASES_FREQUENCY            0\n",
       "PURCHASES_INSTALLMENTS_FREQUENCY      0\n",
       "CASH_ADVANCE_FREQUENCY                0\n",
       "CASH_ADVANCE_TRX                      0\n",
       "PURCHASES_TRX                         0\n",
       "CREDIT_LIMIT                          1\n",
       "PAYMENTS                              0\n",
       "MINIMUM_PAYMENTS                    313\n",
       "PRC_FULL_PAYMENT                      0\n",
       "TENURE                                0\n",
       "dtype: int64"
      ]
     },
     "execution_count": 2,
     "metadata": {},
     "output_type": "execute_result"
    }
   ],
   "source": [
    "df.isnull().sum()"
   ]
  },
  {
   "cell_type": "code",
   "execution_count": 3,
   "metadata": {},
   "outputs": [
    {
     "data": {
      "text/plain": [
       "array([  95.4 ,    0.  ,  773.17, ...,  291.12,  144.4 , 1093.25])"
      ]
     },
     "execution_count": 3,
     "metadata": {},
     "output_type": "execute_result"
    }
   ],
   "source": [
    "df['PURCHASES'].unique()"
   ]
  },
  {
   "cell_type": "code",
   "execution_count": 4,
   "metadata": {},
   "outputs": [
    {
     "data": {
      "text/plain": [
       "array([   0.  ,  773.17, 1499.  , ...,  734.4 , 1012.73, 1093.25])"
      ]
     },
     "execution_count": 4,
     "metadata": {},
     "output_type": "execute_result"
    }
   ],
   "source": [
    "df['ONEOFF_PURCHASES'].unique()"
   ]
  },
  {
   "cell_type": "code",
   "execution_count": 5,
   "metadata": {},
   "outputs": [
    {
     "data": {
      "text/plain": [
       "array([  95.4 ,    0.  , 1333.28, ...,  113.28,  291.12,  144.4 ])"
      ]
     },
     "execution_count": 5,
     "metadata": {},
     "output_type": "execute_result"
    }
   ],
   "source": [
    "df['INSTALLMENTS_PURCHASES'].unique()"
   ]
  },
  {
   "cell_type": "code",
   "execution_count": 6,
   "metadata": {},
   "outputs": [
    {
     "data": {
      "text/plain": [
       "array([   0.      , 6442.945483,  205.788017, ..., 8555.409326,\n",
       "         36.558778,  127.040008])"
      ]
     },
     "execution_count": 6,
     "metadata": {},
     "output_type": "execute_result"
    }
   ],
   "source": [
    "df['CASH_ADVANCE'].unique()"
   ]
  },
  {
   "cell_type": "code",
   "execution_count": 7,
   "metadata": {
    "scrolled": true
   },
   "outputs": [
    {
     "data": {
      "text/plain": [
       "array([0.166667, 0.      , 1.      , 0.083333, 0.666667, 0.333333,\n",
       "       0.25    , 0.75    , 0.5     , 0.416667, 0.916667, 0.583333,\n",
       "       0.375   , 0.625   , 0.272727, 0.833333, 0.909091, 0.111111,\n",
       "       0.142857, 0.090909, 0.363636, 0.1     , 0.875   , 0.125   ,\n",
       "       0.818182, 0.636364, 0.2     , 0.8     , 0.3     , 0.9     ,\n",
       "       0.285714, 0.727273, 0.181818, 0.7     , 0.545455, 0.888889,\n",
       "       0.714286, 0.454545, 0.857143, 0.555556, 0.428571, 0.4     ,\n",
       "       0.571429, 0.6     , 0.222222, 0.777778, 0.444444])"
      ]
     },
     "execution_count": 7,
     "metadata": {},
     "output_type": "execute_result"
    }
   ],
   "source": [
    "df['PURCHASES_FREQUENCY'].unique()"
   ]
  },
  {
   "cell_type": "code",
   "execution_count": 8,
   "metadata": {
    "scrolled": true
   },
   "outputs": [
    {
     "data": {
      "text/plain": [
       "array([0.      , 1.      , 0.083333, 0.166667, 0.25    , 0.916667,\n",
       "       0.5     , 0.416667, 0.333333, 0.666667, 0.375   , 0.583333,\n",
       "       0.1     , 0.090909, 0.833333, 0.75    , 0.111111, 0.142857,\n",
       "       0.125   , 0.875   , 0.363636, 0.2     , 0.818182, 0.8     ,\n",
       "       0.3     , 0.636364, 0.181818, 0.909091, 0.285714, 0.222222,\n",
       "       0.727273, 0.571429, 0.6     , 0.272727, 0.714286, 0.545455,\n",
       "       0.428571, 0.444444, 0.454545, 0.625   , 0.777778, 0.555556,\n",
       "       0.7     , 0.9     , 0.4     , 0.857143, 0.888889])"
      ]
     },
     "execution_count": 8,
     "metadata": {},
     "output_type": "execute_result"
    }
   ],
   "source": [
    "df['ONEOFF_PURCHASES_FREQUENCY'].unique()"
   ]
  },
  {
   "cell_type": "code",
   "execution_count": 9,
   "metadata": {},
   "outputs": [
    {
     "data": {
      "text/plain": [
       "array([0.083333, 0.      , 0.583333, 1.      , 0.25    , 0.916667,\n",
       "       0.75    , 0.5     , 0.333333, 0.666667, 0.416667, 0.166667,\n",
       "       0.833333, 0.4     , 0.181818, 0.818182, 0.272727, 0.375   ,\n",
       "       0.125   , 0.636364, 0.545455, 0.909091, 0.888889, 0.2     ,\n",
       "       0.8     , 0.1     , 0.142857, 0.857143, 0.444444, 0.454545,\n",
       "       0.111111, 0.6     , 0.555556, 0.777778, 0.3     , 0.9     ,\n",
       "       0.363636, 0.714286, 0.875   , 0.222222, 0.285714, 0.7     ,\n",
       "       0.727273, 0.571429, 0.090909, 0.428571, 0.625   ])"
      ]
     },
     "execution_count": 9,
     "metadata": {},
     "output_type": "execute_result"
    }
   ],
   "source": [
    "df['PURCHASES_INSTALLMENTS_FREQUENCY'].unique()"
   ]
  },
  {
   "cell_type": "code",
   "execution_count": 10,
   "metadata": {},
   "outputs": [
    {
     "data": {
      "text/plain": [
       "array(['C10001', 'C10002', 'C10003', ..., 'C19188', 'C19189', 'C19190'],\n",
       "      dtype=object)"
      ]
     },
     "execution_count": 10,
     "metadata": {},
     "output_type": "execute_result"
    }
   ],
   "source": [
    "df['CUST_ID'].unique()"
   ]
  },
  {
   "cell_type": "code",
   "execution_count": 11,
   "metadata": {},
   "outputs": [
    {
     "name": "stdout",
     "output_type": "stream",
     "text": [
      "[   0    1    2 ... 8947 8948 8949]\n"
     ]
    }
   ],
   "source": [
    "from sklearn.preprocessing import LabelEncoder\n",
    "\n",
    "le = LabelEncoder()\n",
    "gender_encoded = le.fit_transform(df['CUST_ID'])\n",
    "\n",
    "print(gender_encoded)"
   ]
  },
  {
   "cell_type": "code",
   "execution_count": 12,
   "metadata": {},
   "outputs": [
    {
     "data": {
      "text/plain": [
       "array([  40.900749, 3202.467416, 2495.148862, ...,   23.398673,\n",
       "         13.457564,  372.708075])"
      ]
     },
     "execution_count": 12,
     "metadata": {},
     "output_type": "execute_result"
    }
   ],
   "source": [
    "df['BALANCE'].unique()"
   ]
  },
  {
   "cell_type": "code",
   "execution_count": 13,
   "metadata": {},
   "outputs": [
    {
     "data": {
      "text/plain": [
       "array([0.818182, 0.909091, 1.      , 0.636364, 0.545455, 0.875   ,\n",
       "       0.454545, 0.727273, 0.5     , 0.888889, 0.090909, 0.272727,\n",
       "       0.363636, 0.      , 0.666667, 0.75    , 0.857143, 0.181818,\n",
       "       0.333333, 0.6     , 0.3     , 0.125   , 0.9     , 0.833333,\n",
       "       0.8     , 0.2     , 0.777778, 0.555556, 0.25    , 0.142857,\n",
       "       0.571429, 0.4     , 0.444444, 0.714286, 0.222222, 0.1     ,\n",
       "       0.625   , 0.428571, 0.111111, 0.285714, 0.7     , 0.375   ,\n",
       "       0.166667])"
      ]
     },
     "execution_count": 13,
     "metadata": {},
     "output_type": "execute_result"
    }
   ],
   "source": [
    "df['BALANCE_FREQUENCY'].unique()"
   ]
  },
  {
   "cell_type": "code",
   "execution_count": 14,
   "metadata": {},
   "outputs": [
    {
     "data": {
      "text/plain": [
       "array([ 139.509787, 1072.340217,  627.284787, ...,   82.418369,\n",
       "         55.755628,   88.288956])"
      ]
     },
     "execution_count": 14,
     "metadata": {},
     "output_type": "execute_result"
    }
   ],
   "source": [
    "df['MINIMUM_PAYMENTS'].unique()"
   ]
  },
  {
   "cell_type": "code",
   "execution_count": 15,
   "metadata": {},
   "outputs": [],
   "source": [
    "df['MINIMUM_PAYMENTS'].fillna(df['MINIMUM_PAYMENTS'].mean(), inplace=True)"
   ]
  },
  {
   "cell_type": "code",
   "execution_count": 16,
   "metadata": {
    "scrolled": true
   },
   "outputs": [
    {
     "data": {
      "text/plain": [
       "array([ 1000.      ,  7000.      ,  7500.      ,  1200.      ,\n",
       "        1800.      , 13500.      ,  2300.      , 11000.      ,\n",
       "        2000.      ,  3000.      ,  8000.      ,  2500.      ,\n",
       "       13000.      ,  4000.      , 11250.      ,  9000.      ,\n",
       "        6000.      ,  1700.      , 10500.      ,  6900.      ,\n",
       "        5000.      ,  4500.      ,  1500.      ,  8500.      ,\n",
       "        2400.      ,  4200.      ,  3300.      , 12000.      ,\n",
       "        3500.      ,  6500.      ,  1600.      ,  4150.      ,\n",
       "        1850.      ,  6250.      ,  2250.      ,  9500.      ,\n",
       "       16500.      ,  5700.      ,  5500.      , 17000.      ,\n",
       "        3200.      , 19000.      ,  2800.      , 18000.      ,\n",
       "       21500.      , 10000.      , 20000.      ,  7900.      ,\n",
       "       15000.      , 12500.      , 14000.      ,  5300.      ,\n",
       "         900.      ,  6150.      , 11500.      , 23000.      ,\n",
       "        2700.      , 14500.      , 19500.      ,  1400.      ,\n",
       "        2900.      ,  1950.      ,  7200.      , 10950.      ,\n",
       "        2100.      ,   500.      , 21000.      ,  4800.      ,\n",
       "        7300.      , 18500.      ,  6550.      ,  6200.      ,\n",
       "        3150.      , 11800.      , 11300.      ,  2750.      ,\n",
       "       10300.      ,  2850.      , 17500.      , 22500.      ,\n",
       "        6750.      , 16000.      ,  1750.      , 15500.      ,\n",
       "        3800.      ,  6600.      ,  3650.      ,  2600.      ,\n",
       "        4600.      ,  3350.      ,  4300.      ,  5250.      ,\n",
       "       28000.      ,  3600.      , 10200.      ,   750.      ,\n",
       "        7600.      ,  2720.      ,  2200.      ,  7350.      ,\n",
       "         300.      ,  3750.      ,  1900.      , 10400.      ,\n",
       "        5200.      ,  4350.      ,  3050.      ,  6700.      ,\n",
       "       20500.      ,  5750.      ,  8300.      ,  7950.      ,\n",
       "        3100.      ,  4050.      ,  6300.      ,  3666.666667,\n",
       "         200.      ,  9100.      ,  3700.      ,  7100.      ,\n",
       "        4750.      ,  3900.      , 10100.      ,  1300.      ,\n",
       "       19600.      , 10450.      , 11150.      ,   600.      ,\n",
       "        4700.      ,   150.      ,  3400.      ,  1350.      ,\n",
       "        5100.      ,  7227.272727, 13550.      ,  9200.      ,\n",
       "        6100.      ,  2050.      ,  6400.      ,  4250.      ,\n",
       "       14600.      ,  8600.      ,  3511.111111,  5600.      ,\n",
       "        6727.272727, 13600.      ,  8800.      , 11100.      ,\n",
       "       12200.      ,  8100.      ,  8050.      ,  4100.      ,\n",
       "        5550.      ,  4450.      ,  5650.      ,  8200.      ,\n",
       "        5400.      , 25000.      ,  9950.      ,  1150.      ,\n",
       "        6800.      ,  4650.      ,  7800.      ,  2150.      ,\n",
       "       22000.      ,   400.      ,  7700.      ,  4400.      ,\n",
       "        1050.      ,   700.      ,  5181.818182,  4900.      ,\n",
       "        1100.      ,  2550.      ,  2283.333333, 30000.      ,\n",
       "        9700.      ,  9400.      ,          nan,  2725.      ,\n",
       "         450.      ,  8700.      , 12300.      ,  7050.      ,\n",
       "        1550.      ,  9800.      ,  5450.      ,   800.      ,\n",
       "        8954.545455,  2950.      ,  2450.      ,  6850.      ,\n",
       "        4950.      ,  5900.      ,  1250.      , 17150.      ,\n",
       "        9600.      ,    50.      , 10750.      ,  1120.      ,\n",
       "       13450.      ,  3777.777778,   650.      ,  1450.      ,\n",
       "        2350.      ,  1833.333333])"
      ]
     },
     "execution_count": 16,
     "metadata": {},
     "output_type": "execute_result"
    }
   ],
   "source": [
    "df['CREDIT_LIMIT'].unique()"
   ]
  },
  {
   "cell_type": "code",
   "execution_count": 17,
   "metadata": {},
   "outputs": [],
   "source": [
    "df['CREDIT_LIMIT'].fillna(df['CREDIT_LIMIT'].mean(), inplace=True)"
   ]
  },
  {
   "cell_type": "code",
   "execution_count": 18,
   "metadata": {},
   "outputs": [
    {
     "data": {
      "text/plain": [
       "CUST_ID                             0\n",
       "BALANCE                             0\n",
       "BALANCE_FREQUENCY                   0\n",
       "PURCHASES                           0\n",
       "ONEOFF_PURCHASES                    0\n",
       "INSTALLMENTS_PURCHASES              0\n",
       "CASH_ADVANCE                        0\n",
       "PURCHASES_FREQUENCY                 0\n",
       "ONEOFF_PURCHASES_FREQUENCY          0\n",
       "PURCHASES_INSTALLMENTS_FREQUENCY    0\n",
       "CASH_ADVANCE_FREQUENCY              0\n",
       "CASH_ADVANCE_TRX                    0\n",
       "PURCHASES_TRX                       0\n",
       "CREDIT_LIMIT                        0\n",
       "PAYMENTS                            0\n",
       "MINIMUM_PAYMENTS                    0\n",
       "PRC_FULL_PAYMENT                    0\n",
       "TENURE                              0\n",
       "dtype: int64"
      ]
     },
     "execution_count": 18,
     "metadata": {},
     "output_type": "execute_result"
    }
   ],
   "source": [
    "df.isnull().sum()"
   ]
  },
  {
   "cell_type": "code",
   "execution_count": 19,
   "metadata": {},
   "outputs": [
    {
     "data": {
      "image/png": "[encoded data removed]",
      "text/plain": [
       "<Figure size 576x360 with 1 Axes>"
      ]
     },
     "metadata": {
      "needs_background": "light"
     },
     "output_type": "display_data"
    }
   ],
   "source": [
    "from sklearn.datasets import load_iris\n",
    "from sklearn.cluster import AgglomerativeClustering\n",
    "import numpy as np\n",
    "import matplotlib.pyplot as plt\n",
    " \n",
    " \n",
    "#Getting the data ready\n",
    " \n",
    "data = load_iris()\n",
    "df = data.data\n",
    "#Selecting certain features based on which clustering is done \n",
    "df = df[:,1:3]\n",
    " \n",
    " \n",
    "#Creating the model\n",
    " \n",
    "agg_clustering = AgglomerativeClustering(n_clusters = 3, affinity = 'euclidean', linkage = 'ward')\n",
    " \n",
    "#predicting the labels\n",
    " \n",
    "labels = agg_clustering.fit_predict(df)\n",
    "plt.figure(figsize = (8,5))\n",
    "plt.scatter(df[labels == 0 , 0] , df[labels == 0 , 1] , c = 'red')\n",
    "plt.scatter(df[labels == 1 , 0] , df[labels == 1 , 1] , c = 'blue')\n",
    "plt.scatter(df[labels == 2 , 0] , df[labels == 2 , 1] , c = 'green')\n",
    "plt.show()"
   ]
  },
  {
   "cell_type": "code",
   "execution_count": 20,
   "metadata": {},
   "outputs": [
    {
     "data": {
      "image/png": "[encoded data removed]",
      "text/plain": [
       "<Figure size 720x504 with 1 Axes>"
      ]
     },
     "metadata": {
      "needs_background": "light"
     },
     "output_type": "display_data"
    }
   ],
   "source": [
    "import matplotlib.pyplot as plt\n",
    "import scipy.cluster.hierarchy as shc\n",
    "plt.figure(figsize=(10,7))\n",
    "dend=shc.dendrogram(shc.linkage(df, method=\"complete\"))"
   ]
  },
  {
   "cell_type": "code",
   "execution_count": 21,
   "metadata": {},
   "outputs": [
    {
     "data": {
      "image/png": "[encoded data removed]",
      "text/plain": [
       "<Figure size 432x288 with 1 Axes>"
      ]
     },
     "metadata": {
      "needs_background": "light"
     },
     "output_type": "display_data"
    }
   ],
   "source": [
    "\n",
    "import numpy as np\n",
    "from scipy.spatial.distance import cdist \n",
    "from sklearn.datasets import load_digits\n",
    "from sklearn.decomposition import PCA\n",
    "from sklearn.cluster import KMeans\n",
    "import matplotlib.pyplot as plt\n",
    " \n",
    "def kmeans(x,k, no_of_iterations):\n",
    "    idx = np.random.choice(len(x), k, replace=False)\n",
    "    #Randomly choosing Centroids \n",
    "    centroids = x[idx, :] #Step 1\n",
    "     \n",
    "    #finding the distance between centroids and all the data points\n",
    "    distances = cdist(x, centroids ,'euclidean') #Step 2\n",
    "     \n",
    "    #Centroid with the minimum Distance\n",
    "    points = np.array([np.argmin(i) for i in distances]) #Step 3\n",
    "     \n",
    "    #Repeating the above steps for a defined number of iterations\n",
    "    #Step 4\n",
    "    for _ in range(no_of_iterations): \n",
    "        centroids = []\n",
    "        for idx in range(k):\n",
    "            #Updating Centroids by taking mean of Cluster it belongs to\n",
    "            temp_cent = x[points==idx].mean(axis=0) \n",
    "            centroids.append(temp_cent)\n",
    " \n",
    "        centroids = np.vstack(centroids) #Updated Centroids \n",
    "         \n",
    "        distances = cdist(x, centroids ,'euclidean')\n",
    "        points = np.array([np.argmin(i) for i in distances])\n",
    "         \n",
    "    return points\n",
    "\n",
    " \n",
    "pca = PCA(2)\n",
    "  \n",
    "#Transform the data\n",
    "df = pca.fit_transform(df)\n",
    "#Applying our function\n",
    "label = kmeans(df,10,1000)\n",
    "\n",
    "#Visualize the results\n",
    " \n",
    "u_labels = np.unique(label)\n",
    "for i in u_labels:\n",
    "    plt.scatter(df[label == i , 0] , df[label == i , 1] , label = i)\n",
    "plt.legend()\n",
    "plt.show()"
   ]
  },
  {
   "cell_type": "code",
   "execution_count": 22,
   "metadata": {},
   "outputs": [
    {
     "data": {
      "text/plain": [
       "KMeans(n_clusters=5, random_state=0)"
      ]
     },
     "execution_count": 22,
     "metadata": {},
     "output_type": "execute_result"
    }
   ],
   "source": [
    "from sklearn.cluster import KMeans  #Importing our clustering algorithm: KMeans\n",
    "kmeans=KMeans(n_clusters=5, random_state=0)  #Cluster our data by choosing 5 as number of clusters\n",
    "kmeans.fit(df)"
   ]
  },
  {
   "cell_type": "code",
   "execution_count": 23,
   "metadata": {},
   "outputs": [],
   "source": [
    "Sum_of_squared_distances=[]\n",
    "K= range(1,15)\n",
    "for k in K:\n",
    "    km= KMeans(n_clusters=k)\n",
    "    km= km.fit(df)\n",
    "    Sum_of_squared_distances.append(km.inertia_)"
   ]
  },
  {
   "cell_type": "code",
   "execution_count": 24,
   "metadata": {},
   "outputs": [
    {
     "data": {
      "image/png": "[encoded data removed]",
      "text/plain": [
       "<Figure size 432x288 with 1 Axes>"
      ]
     },
     "metadata": {
      "needs_background": "light"
     },
     "output_type": "display_data"
    }
   ],
   "source": [
    "plt.plot(K, Sum_of_squared_distances, 'bx-' )\n",
    "plt.xlabel('k')\n",
    "plt.ylabel('Sum_of_squared_distances')\n",
    "plt.show()"
   ]
  }
 ],
 "metadata": {
  "kernelspec": {
   "display_name": "Python 3",
   "language": "python",
   "name": "python3"
  },
  "language_info": {
   "codemirror_mode": {
    "name": "ipython",
    "version": 3
   },
   "file_extension": ".py",
   "mimetype": "text/x-python",
   "name": "python",
   "nbconvert_exporter": "python",
   "pygments_lexer": "ipython3",
   "version": "3.8.3"
  }
 },
 "nbformat": 4,
 "nbformat_minor": 4
}
